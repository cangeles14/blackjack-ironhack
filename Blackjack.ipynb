{
 "cells": [
  {
   "cell_type": "code",
   "execution_count": null,
   "metadata": {},
   "outputs": [],
   "source": [
    "import random\n",
    "import numpy as np\n",
    "import time"
   ]
  },
  {
   "cell_type": "code",
   "execution_count": 9,
   "metadata": {},
   "outputs": [
    {
     "name": "stdout",
     "output_type": "stream",
     "text": [
      "The dealer's score is: 20\n",
      "The dealer's hand is: ['J of Hearts', '10 of Hearts']\n",
      "Your score is: 15\n",
      "The player's hand is: ['7 of Spades', '8 of Diamonds']\n",
      " There are 48 cards left in the deck.\n",
      "The dealer stands.\n",
      "Please enter hit or stand: hit\n",
      "Your score is: 20\n",
      "The player's hand is: ['7 of Spades', '8 of Diamonds', '5 of Diamonds']\n",
      "The dealer stands.\n",
      "Please enter hit or stand: stand\n",
      "Player stands.\n"
     ]
    },
    {
     "data": {
      "text/plain": [
       "'Tie!'"
      ]
     },
     "execution_count": 9,
     "metadata": {},
     "output_type": "execute_result"
    }
   ],
   "source": [
    "dealer_score = 0\n",
    "player_score = 0\n",
    "dealer_hand = []\n",
    "player_hand = []\n",
    "deck = []\n",
    "values = {'2': 2, '3': 3, '4': 4, '5': 5, '6': 6, '7': 7, '8': 8, '9': 9, '10': 10, 'J': 10, 'Q': 10, 'K': 10, 'A': 1}\n",
    "\n",
    "def blackjack():\n",
    "    global dealer_score\n",
    "    global player_score\n",
    "    global dealer_hand\n",
    "    global player_hand\n",
    "    global values\n",
    "    \n",
    "    deck = generate_deck()\n",
    "    dealer_score,player_score,values,dealer_hand,player_hand=first_round()\n",
    "    # print(deck) # remove eventually \n",
    "    print(f\" There are {len(deck)} cards left in the deck.\")\n",
    "    \n",
    "    while dealer_score or player_score <= 21:\n",
    "        if dealer_score or player_score <= 21:\n",
    "            if dealer_score < 17:\n",
    "                time.sleep(2)\n",
    "                print(\"Dealer takes a hit.\")\n",
    "                consecutive_round_dealer()\n",
    "                if dealer_score > 21:\n",
    "                    time.sleep(2)\n",
    "                    return (\"Dealer has busted. Player wins.\")\n",
    "            elif dealer_score >= 17:\n",
    "                time.sleep(2)\n",
    "                print('The dealer stands.')\n",
    "            time.sleep(2)\n",
    "            hit_stand = input(\"Please enter hit or stand: \").lower()\n",
    "            if hit_stand == 'hit':\n",
    "                consecutive_round_player()\n",
    "            elif hit_stand == 'stand':\n",
    "                time.sleep(2)\n",
    "                print(\"Player stands.\")\n",
    "        if dealer_score or player_score > 21:\n",
    "            if dealer_score > 21:\n",
    "                time.sleep(2)\n",
    "                return (\"Dealer has busted. Player wins.\")\n",
    "            if player_score > 21:\n",
    "                time.sleep(2)\n",
    "                return (\"Player has busted. Dealer has won.\")\n",
    "        if dealer_score >= 17 and hit_stand == 'stand':\n",
    "            if dealer_score < player_score:\n",
    "                time.sleep(2)\n",
    "                return (\"Player has won.\")\n",
    "            if dealer_score > player_score:\n",
    "                time.sleep(2)\n",
    "                return (\"Dealer has won.\")\n",
    "            if dealer_score == player_score:\n",
    "                time.sleep(2)\n",
    "                return (\"Tie!\")\n",
    "\n",
    "blackjack()"
   ]
  },
  {
   "cell_type": "code",
   "execution_count": 2,
   "metadata": {},
   "outputs": [],
   "source": [
    "deck = []\n",
    "def generate_deck():\n",
    "    if len(deck) > 0:\n",
    "        return deck\n",
    "    else:\n",
    "        cards = ['2','3','4','5','6','7','8','9','10','J','Q','K','A']\n",
    "        suits = ['Hearts','Clubs','Diamonds','Spades']\n",
    "        x = deck\n",
    "        x = [deck.append([c + ' of ' + s,c]) for s in suits for c in cards]\n",
    "        return(deck)"
   ]
  },
  {
   "cell_type": "code",
   "execution_count": 3,
   "metadata": {},
   "outputs": [
    {
     "name": "stdout",
     "output_type": "stream",
     "text": [
      "There are no cards left, please start a new game.\n",
      "Generating new deck...\n"
     ]
    },
    {
     "data": {
      "text/plain": [
       "['Q of Hearts', 'Q']"
      ]
     },
     "execution_count": 3,
     "metadata": {},
     "output_type": "execute_result"
    }
   ],
   "source": [
    "def deal_card():\n",
    "    if len(deck) == 0:\n",
    "        print(\"There are no cards left, please start a new game.\")\n",
    "        time.sleep(2)\n",
    "        print('Generating new deck...')\n",
    "        generate_deck()\n",
    "        return deal_card()\n",
    "    else:\n",
    "        x = random.choice(deck)\n",
    "        deck.remove(x)\n",
    "        # print(len(deck)) #remove this eventually\n",
    "        return (x)\n",
    "\n",
    "deal_card()"
   ]
  },
  {
   "cell_type": "code",
   "execution_count": null,
   "metadata": {},
   "outputs": [],
   "source": [
    "def first_round():\n",
    "    global dealer_score\n",
    "    global player_score\n",
    "    global dealer_hand\n",
    "    global player_hand\n",
    "    global values\n",
    "    a = deal_card()\n",
    "    dealer_score += (values[a[1]])\n",
    "    dealer_hand.append(a[0])\n",
    "    b = deal_card()\n",
    "    dealer_score += (values[b[1]])\n",
    "    dealer_hand.append(b[0])\n",
    "    time.sleep(2)\n",
    "    print(f\"The dealer's score is: {dealer_score}\")\n",
    "    time.sleep(2)\n",
    "    print(f\"The dealer's hand is: {dealer_hand}\")\n",
    "    c = deal_card()\n",
    "    player_score += (values[c[1]])\n",
    "    player_hand.append(c[0])\n",
    "    d = deal_card()\n",
    "    player_score += (values[d[1]])\n",
    "    player_hand.append(d[0])\n",
    "    time.sleep(2)\n",
    "    print(f\"Your score is: {player_score}\")\n",
    "    time.sleep(2)\n",
    "    print(f\"The player's hand is: {player_hand}\")\n",
    "    return (dealer_score,player_score,values,dealer_hand,player_hand)\n",
    "    \n"
   ]
  },
  {
   "cell_type": "code",
   "execution_count": null,
   "metadata": {},
   "outputs": [],
   "source": [
    "def consecutive_round_dealer():\n",
    "    global dealer_score\n",
    "    global player_score\n",
    "    global dealer_hand\n",
    "    global player_hand\n",
    "    global values\n",
    "    a = deal_card()\n",
    "    dealer_score += (values[a[1]])\n",
    "    dealer_hand.append(a[0])\n",
    "    time.sleep(2)\n",
    "    print(f\"The dealer's score is: {dealer_score}\")\n",
    "    time.sleep(2)\n",
    "    print(f\"The dealer's hand is: {dealer_hand}\")\n",
    "    return (dealer_score,player_score,values,dealer_hand,player_hand)"
   ]
  },
  {
   "cell_type": "code",
   "execution_count": null,
   "metadata": {},
   "outputs": [],
   "source": [
    "def consecutive_round_player():\n",
    "    global dealer_score\n",
    "    global player_score\n",
    "    global dealer_hand\n",
    "    global player_hand\n",
    "    global values\n",
    "    b = deal_card()\n",
    "    player_score += (values[b[1]])\n",
    "    player_hand.append(b[0])\n",
    "    time.sleep(2)\n",
    "    print(f\"Your score is: {player_score}\")\n",
    "    time.sleep(2)\n",
    "    print(f\"The player's hand is: {player_hand}\")\n",
    "    return (dealer_score,player_score,values,dealer_hand,player_hand)"
   ]
  },
  {
   "cell_type": "code",
   "execution_count": null,
   "metadata": {},
   "outputs": [],
   "source": []
  }
 ],
 "metadata": {
  "kernelspec": {
   "display_name": "Python 3",
   "language": "python",
   "name": "python3"
  },
  "language_info": {
   "codemirror_mode": {
    "name": "ipython",
    "version": 3
   },
   "file_extension": ".py",
   "mimetype": "text/x-python",
   "name": "python",
   "nbconvert_exporter": "python",
   "pygments_lexer": "ipython3",
   "version": "3.7.1"
  }
 },
 "nbformat": 4,
 "nbformat_minor": 2
}
