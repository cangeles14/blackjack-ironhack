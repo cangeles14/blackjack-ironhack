{
 "cells": [
  {
   "cell_type": "code",
<<<<<<< HEAD
   "execution_count": 5,
=======
   "execution_count": null,
>>>>>>> 7e0cf01c210ee6cfffc9d4b2c7693df6c23fd03f
   "metadata": {},
   "outputs": [],
   "source": [
    "import random\n",
    "import numpy as np\n",
    "import time"
   ]
  },
  {
   "cell_type": "code",
<<<<<<< HEAD
   "execution_count": 64,
=======
   "execution_count": 9,
>>>>>>> 7e0cf01c210ee6cfffc9d4b2c7693df6c23fd03f
   "metadata": {},
   "outputs": [
    {
     "name": "stdout",
     "output_type": "stream",
     "text": [
<<<<<<< HEAD
      "[]\n",
      " There are 0 cards left in the deck.\n",
      "[['2 of Hearts', '2'], ['3 of Hearts', '3'], ['4 of Hearts', '4'], ['5 of Hearts', '5'], ['6 of Hearts', '6'], ['7 of Hearts', '7'], ['8 of Hearts', '8'], ['9 of Hearts', '9'], ['10 of Hearts', '10'], ['J of Hearts', 'J'], ['Q of Hearts', 'Q'], ['K of Hearts', 'K'], ['A of Hearts', 'A'], ['2 of Clubs', '2'], ['3 of Clubs', '3'], ['4 of Clubs', '4'], ['5 of Clubs', '5'], ['6 of Clubs', '6'], ['7 of Clubs', '7'], ['8 of Clubs', '8'], ['9 of Clubs', '9'], ['10 of Clubs', '10'], ['J of Clubs', 'J'], ['Q of Clubs', 'Q'], ['K of Clubs', 'K'], ['A of Clubs', 'A'], ['2 of Diamonds', '2'], ['3 of Diamonds', '3'], ['4 of Diamonds', '4'], ['5 of Diamonds', '5'], ['6 of Diamonds', '6'], ['7 of Diamonds', '7'], ['8 of Diamonds', '8'], ['9 of Diamonds', '9'], ['10 of Diamonds', '10'], ['J of Diamonds', 'J'], ['Q of Diamonds', 'Q'], ['K of Diamonds', 'K'], ['A of Diamonds', 'A'], ['2 of Spades', '2'], ['3 of Spades', '3'], ['4 of Spades', '4'], ['5 of Spades', '5'], ['6 of Spades', '6'], ['7 of Spades', '7'], ['8 of Spades', '8'], ['9 of Spades', '9'], ['10 of Spades', '10'], ['J of Spades', 'J'], ['Q of Spades', 'Q'], ['K of Spades', 'K'], ['A of Spades', 'A']]\n"
     ]
    }
   ],
   "source": [
    "\n",
    "def blackjack():\n",
    "    values = {'2': 2, '3': 3, '4': 4, '5': 5, '6': 6, '7': 7, '8': 8, '9': 9, '10': 10, 'J': 10, 'Q': 10, 'K': 10, 'A': 1}\n",
    "    deck = []\n",
    "    generate_deck()\n",
    "    print(deck)\n",
=======
      "The dealer's score is: 20\n",
      "The dealer's hand is: ['J of Hearts', '10 of Hearts']\n",
      "Your score is: 15\n",
      "The player's hand is: ['7 of Spades', '8 of Diamonds']\n",
      " There are 48 cards left in the deck.\n",
      "The dealer stands.\n",
      "Please enter hit or stand: hit\n",
      "Your score is: 20\n",
      "The player's hand is: ['7 of Spades', '8 of Diamonds', '5 of Diamonds']\n",
      "The dealer stands.\n",
      "Please enter hit or stand: stand\n",
      "Player stands.\n"
     ]
    },
    {
     "data": {
      "text/plain": [
       "'Tie!'"
      ]
     },
     "execution_count": 9,
     "metadata": {},
     "output_type": "execute_result"
    }
   ],
   "source": [
    "dealer_score = 0\n",
    "player_score = 0\n",
    "dealer_hand = []\n",
    "player_hand = []\n",
    "deck = []\n",
    "values = {'2': 2, '3': 3, '4': 4, '5': 5, '6': 6, '7': 7, '8': 8, '9': 9, '10': 10, 'J': 10, 'Q': 10, 'K': 10, 'A': 1}\n",
    "\n",
    "def blackjack():\n",
    "    global dealer_score\n",
    "    global player_score\n",
    "    global dealer_hand\n",
    "    global player_hand\n",
    "    global values\n",
    "    \n",
    "    deck = generate_deck()\n",
    "    dealer_score,player_score,values,dealer_hand,player_hand=first_round()\n",
    "    # print(deck) # remove eventually \n",
>>>>>>> 7e0cf01c210ee6cfffc9d4b2c7693df6c23fd03f
    "    print(f\" There are {len(deck)} cards left in the deck.\")\n",
    "    \n",
    "    while dealer_score or player_score <= 21:\n",
    "        if dealer_score or player_score <= 21:\n",
    "            if dealer_score < 17:\n",
    "                time.sleep(2)\n",
    "                print(\"Dealer takes a hit.\")\n",
    "                consecutive_round_dealer()\n",
    "                if dealer_score > 21:\n",
    "                    time.sleep(2)\n",
    "                    return (\"Dealer has busted. Player wins.\")\n",
    "            elif dealer_score >= 17:\n",
    "                time.sleep(2)\n",
    "                print('The dealer stands.')\n",
    "            time.sleep(2)\n",
    "            hit_stand = input(\"Please enter hit or stand: \").lower()\n",
    "            if hit_stand == 'hit':\n",
    "                consecutive_round_player()\n",
    "            elif hit_stand == 'stand':\n",
    "                time.sleep(2)\n",
    "                print(\"Player stands.\")\n",
    "        if dealer_score or player_score > 21:\n",
    "            if dealer_score > 21:\n",
    "                time.sleep(2)\n",
    "                return (\"Dealer has busted. Player wins.\")\n",
    "            if player_score > 21:\n",
    "                time.sleep(2)\n",
    "                return (\"Player has busted. Dealer has won.\")\n",
    "        if dealer_score >= 17 and hit_stand == 'stand':\n",
    "            if dealer_score < player_score:\n",
    "                time.sleep(2)\n",
    "                return (\"Player has won.\")\n",
    "            if dealer_score > player_score:\n",
    "                time.sleep(2)\n",
    "                return (\"Dealer has won.\")\n",
    "            if dealer_score == player_score:\n",
    "                time.sleep(2)\n",
    "                return (\"Tie!\")\n",
    "\n",
    "blackjack()\n",
    "print(deck)"
   ]
  },
  {
   "cell_type": "code",
   "execution_count": 60,
   "metadata": {},
   "outputs": [],
   "source": [
    "deck = []\n",
    "def generate_deck():\n",
    "    if len(deck) > 0:\n",
    "        return deck\n",
    "    else:\n",
    "        cards = ['2','3','4','5','6','7','8','9','10','J','Q','K','A']\n",
    "        suits = ['Hearts','Clubs','Diamonds','Spades']\n",
    "        x = deck\n",
    "        x = [deck.append([c + ' of ' + s,c]) for s in suits for c in cards]\n",
    "        return(deck)"
   ]
  },
  {
   "cell_type": "code",
   "execution_count": 29,
   "metadata": {},
   "outputs": [
    {
     "name": "stdout",
     "output_type": "stream",
     "text": [
      "There are no cards left, please start a new game.\n",
      "Generating new deck...\n"
     ]
    },
    {
     "data": {
      "text/plain": [
<<<<<<< HEAD
       "['J of Clubs', 'J']"
=======
       "['Q of Hearts', 'Q']"
>>>>>>> 7e0cf01c210ee6cfffc9d4b2c7693df6c23fd03f
      ]
     },
     "execution_count": 29,
     "metadata": {},
     "output_type": "execute_result"
    }
   ],
   "source": [
    "def deal_card():\n",
    "    if len(deck) == 0:\n",
    "        print(\"There are no cards left, please start a new game.\")\n",
    "        time.sleep(2)\n",
    "        print('Generating new deck...')\n",
    "        generate_deck()\n",
    "        return deal_card()\n",
    "    else:\n",
    "        x = random.choice(deck)\n",
    "        deck.remove(x)\n",
    "        # print(len(deck)) #remove this eventually\n",
    "        return (x)\n",
    "\n",
    "deal_card()"
   ]
  },
  {
   "cell_type": "code",
<<<<<<< HEAD
   "execution_count": 43,
=======
   "execution_count": null,
>>>>>>> 7e0cf01c210ee6cfffc9d4b2c7693df6c23fd03f
   "metadata": {},
   "outputs": [],
   "source": [
    "def first_round():\n",
    "    global dealer_score\n",
    "    global player_score\n",
    "    global dealer_hand\n",
    "    global player_hand\n",
    "    global values\n",
    "    a = deal_card()\n",
    "    dealer_score += (values[a[1]])\n",
    "    dealer_hand.append(a[0])\n",
    "    b = deal_card()\n",
    "    dealer_score += (values[b[1]])\n",
    "    dealer_hand.append(b[0])\n",
    "    time.sleep(2)\n",
    "    print(f\"The dealer's score is: {dealer_score}\")\n",
    "    time.sleep(2)\n",
    "    print(f\"The dealer's hand is: {dealer_hand}\")\n",
    "    c = deal_card()\n",
    "    player_score += (values[c[1]])\n",
    "    player_hand.append(c[0])\n",
    "    d = deal_card()\n",
    "    player_score += (values[d[1]])\n",
    "    player_hand.append(d[0])\n",
    "    time.sleep(2)\n",
    "    print(f\"Your score is: {player_score}\")\n",
    "    time.sleep(2)\n",
    "    print(f\"The player's hand is: {player_hand}\")\n",
    "    return (dealer_score,player_score,values,dealer_hand,player_hand)\n",
    "    \n"
   ]
  },
  {
   "cell_type": "code",
   "execution_count": null,
   "metadata": {},
   "outputs": [],
   "source": [
    "def consecutive_round_dealer():\n",
    "    global dealer_score\n",
    "    global player_score\n",
    "    global dealer_hand\n",
    "    global player_hand\n",
    "    global values\n",
    "    a = deal_card()\n",
    "    dealer_score += (values[a[1]])\n",
    "    dealer_hand.append(a[0])\n",
    "    time.sleep(2)\n",
    "    print(f\"The dealer's score is: {dealer_score}\")\n",
    "    time.sleep(2)\n",
    "    print(f\"The dealer's hand is: {dealer_hand}\")\n",
    "    return (dealer_score,player_score,values,dealer_hand,player_hand)"
   ]
  },
  {
   "cell_type": "code",
   "execution_count": null,
   "metadata": {},
   "outputs": [],
   "source": [
    "def consecutive_round_player():\n",
    "    global dealer_score\n",
    "    global player_score\n",
    "    global dealer_hand\n",
    "    global player_hand\n",
    "    global values\n",
    "    b = deal_card()\n",
    "    player_score += (values[b[1]])\n",
    "    player_hand.append(b[0])\n",
    "    time.sleep(2)\n",
    "    print(f\"Your score is: {player_score}\")\n",
    "    time.sleep(2)\n",
    "    print(f\"The player's hand is: {player_hand}\")\n",
    "    return (dealer_score,player_score,values,dealer_hand,player_hand)"
   ]
  },
  {
   "cell_type": "code",
   "execution_count": null,
   "metadata": {},
   "outputs": [],
   "source": [
    "    dealer_score = 0\n",
    "    player_score = 0\n",
    "    dealer_hand = []\n",
    "    player_hand = []"
   ]
  },
  {
   "cell_type": "code",
   "execution_count": null,
   "metadata": {},
   "outputs": [],
   "source": []
  }
 ],
 "metadata": {
  "kernelspec": {
   "display_name": "Python 3",
   "language": "python",
   "name": "python3"
  },
  "language_info": {
   "codemirror_mode": {
    "name": "ipython",
    "version": 3
   },
   "file_extension": ".py",
   "mimetype": "text/x-python",
   "name": "python",
   "nbconvert_exporter": "python",
   "pygments_lexer": "ipython3",
   "version": "3.7.4"
  }
 },
 "nbformat": 4,
 "nbformat_minor": 2
}
