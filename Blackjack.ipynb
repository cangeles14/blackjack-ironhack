{
 "cells": [
  {
   "cell_type": "code",
   "execution_count": 5,
   "metadata": {},
   "outputs": [],
   "source": [
    "import random\n",
    "import numpy as np"
   ]
  },
  {
   "cell_type": "code",
   "execution_count": 64,
   "metadata": {},
   "outputs": [
    {
     "name": "stdout",
     "output_type": "stream",
     "text": [
      "[]\n",
      " There are 0 cards left in the deck.\n",
      "[['2 of Hearts', '2'], ['3 of Hearts', '3'], ['4 of Hearts', '4'], ['5 of Hearts', '5'], ['6 of Hearts', '6'], ['7 of Hearts', '7'], ['8 of Hearts', '8'], ['9 of Hearts', '9'], ['10 of Hearts', '10'], ['J of Hearts', 'J'], ['Q of Hearts', 'Q'], ['K of Hearts', 'K'], ['A of Hearts', 'A'], ['2 of Clubs', '2'], ['3 of Clubs', '3'], ['4 of Clubs', '4'], ['5 of Clubs', '5'], ['6 of Clubs', '6'], ['7 of Clubs', '7'], ['8 of Clubs', '8'], ['9 of Clubs', '9'], ['10 of Clubs', '10'], ['J of Clubs', 'J'], ['Q of Clubs', 'Q'], ['K of Clubs', 'K'], ['A of Clubs', 'A'], ['2 of Diamonds', '2'], ['3 of Diamonds', '3'], ['4 of Diamonds', '4'], ['5 of Diamonds', '5'], ['6 of Diamonds', '6'], ['7 of Diamonds', '7'], ['8 of Diamonds', '8'], ['9 of Diamonds', '9'], ['10 of Diamonds', '10'], ['J of Diamonds', 'J'], ['Q of Diamonds', 'Q'], ['K of Diamonds', 'K'], ['A of Diamonds', 'A'], ['2 of Spades', '2'], ['3 of Spades', '3'], ['4 of Spades', '4'], ['5 of Spades', '5'], ['6 of Spades', '6'], ['7 of Spades', '7'], ['8 of Spades', '8'], ['9 of Spades', '9'], ['10 of Spades', '10'], ['J of Spades', 'J'], ['Q of Spades', 'Q'], ['K of Spades', 'K'], ['A of Spades', 'A']]\n"
     ]
    }
   ],
   "source": [
    "\n",
    "def blackjack():\n",
    "    values = {'2': 2, '3': 3, '4': 4, '5': 5, '6': 6, '7': 7, '8': 8, '9': 9, '10': 10, 'J': 10, 'Q': 10, 'K': 10, 'A': 1}\n",
    "    deck = []\n",
    "    generate_deck()\n",
    "    print(deck)\n",
    "    print(f\" There are {len(deck)} cards left in the deck.\")\n",
    "\n",
    "blackjack()\n",
    "print(deck)"
   ]
  },
  {
   "cell_type": "code",
   "execution_count": 60,
   "metadata": {},
   "outputs": [],
   "source": [
    "deck = []\n",
    "def generate_deck():\n",
    "    if len(deck) > 0:\n",
    "        return (\"There are still cards in your deck\")\n",
    "    else:\n",
    "        cards = ['2','3','4','5','6','7','8','9','10','J','Q','K','A']\n",
    "        suits = ['Hearts','Clubs','Diamonds','Spades']\n",
    "        x = deck\n",
    "        x = [deck.append([c + ' of ' + s,c]) for s in suits for c in cards]\n",
    "        return(deck)"
   ]
  },
  {
   "cell_type": "code",
   "execution_count": 29,
   "metadata": {},
   "outputs": [
    {
     "data": {
      "text/plain": [
       "['J of Clubs', 'J']"
      ]
     },
     "execution_count": 29,
     "metadata": {},
     "output_type": "execute_result"
    }
   ],
   "source": [
    "def deal_card():\n",
    "    if len(deck) == 0:\n",
    "        return (\"There are no cards left, please start a new game.\")\n",
    "    else:\n",
    "        x = random.choice(deck)\n",
    "        deck.remove(x)\n",
    "        return (x)\n",
    "\n",
    "deal_card()"
   ]
  },
  {
   "cell_type": "code",
   "execution_count": 43,
   "metadata": {},
   "outputs": [],
   "source": [
    "def first_round():\n",
    "    a = deal_card()\n",
    "    dealer_score += (values[a[1]])\n",
    "    dealer_hand.append(a[0])\n",
    "    b = deal_card()\n",
    "    dealer_score += (values[b[1]])\n",
    "    dealer_hand.append(b[0])\n",
    "    print(f\"The dealer's score is: {dealer_score}\")\n",
    "    print(f\"The dealer's hand is: {dealer_hand}\")\n",
    "    c = deal_card()\n",
    "    player_score += (values[c[1]])\n",
    "    player_hand.append(c[0])\n",
    "    d = deal_card()\n",
    "    player_score += (values[d[1]])\n",
    "    player_hand.append(d[0])\n",
    "    print(f\"Your score is: {player_score}\")\n",
    "    print(f\"The player's hand is: {player_hand}\")"
   ]
  },
  {
   "cell_type": "code",
   "execution_count": null,
   "metadata": {},
   "outputs": [],
   "source": [
    "    dealer_score = 0\n",
    "    player_score = 0\n",
    "    dealer_hand = []\n",
    "    player_hand = []"
   ]
  },
  {
   "cell_type": "code",
   "execution_count": null,
   "metadata": {},
   "outputs": [],
   "source": []
  }
 ],
 "metadata": {
  "kernelspec": {
   "display_name": "Python 3",
   "language": "python",
   "name": "python3"
  },
  "language_info": {
   "codemirror_mode": {
    "name": "ipython",
    "version": 3
   },
   "file_extension": ".py",
   "mimetype": "text/x-python",
   "name": "python",
   "nbconvert_exporter": "python",
   "pygments_lexer": "ipython3",
   "version": "3.7.4"
  }
 },
 "nbformat": 4,
 "nbformat_minor": 2
}
